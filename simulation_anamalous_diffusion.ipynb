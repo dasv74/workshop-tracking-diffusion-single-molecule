{
 "cells": [
  {
   "cell_type": "markdown",
   "id": "a1bdddcc-5219-403a-b01f-bfd78d5b9fd6",
   "metadata": {},
   "source": [
    "<img src=\"icons/icon.png\" width=\"50\"/> ![Badge](https://img.shields.io/badge/Workshop%20SMLMS%202025-FF1010?style=for-the-badge)\n",
    "## Single Molecule Tracking and Diffusion\n",
    "\n",
    " *[Daniel Sage](mailto:daniel.sage@epfl.ch?subject=Single%20Molecule%20Tracking%20and%20Diffusion), Ecole Polytechnique Fédérale de Lausanne, Switerzland*\n"
   ]
  },
  {
   "cell_type": "code",
   "execution_count": null,
   "id": "f1f37add-27e5-4dee-976b-43737cfe409a",
   "metadata": {},
   "outputs": [],
   "source": [
    "try: \n",
    "  import deeptrack #Install deeptrack if not yet installed\n",
    "except ImportError: \n",
    "  !pip install deeptrack\n",
    "\n",
    "try: \n",
    "  import andi_datasets #Install andi_datasets if not yet installed\n",
    "except ImportError: \n",
    "  !pip install andi_datasets\n",
    "\n",
    "import numpy as np\n",
    "import random\n",
    "import imageio\n",
    "import matplotlib.pyplot as plt\n",
    "import deeptrack as dt\n",
    "from andi_datasets.models_phenom import models_phenom\n",
    "from andi_datasets.utils_videos import transform_to_video, play_video"
   ]
  },
  {
   "cell_type": "markdown",
   "id": "bdcc4e4f-1eb0-49f5-b612-ad12253cdce1",
   "metadata": {},
   "source": [
    "# Simulation of anomalous models \n",
    "\n",
    "The notebook is a simplified version of the code of provided by *Gorka Muñoz-Gil* on the ANDI2 Challenge GitHub.\n",
    "`https://github.com/AnDiChallenge/andi_datasets \n",
    "\n",
    "Generating N trajectories from one of the five models defined in ANDI.\n",
    "\n"
   ]
  },
  {
   "cell_type": "markdown",
   "id": "f54e0327-3931-4e14-b4b6-1a24d9e2404c",
   "metadata": {},
   "source": [
    "### Generating trajectories"
   ]
  },
  {
   "cell_type": "code",
   "execution_count": null,
   "id": "fc1bc918-78fb-4195-91c6-a0852f079beb",
   "metadata": {},
   "outputs": [],
   "source": [
    "T = 100       # Number of time steps (frames)\n",
    "N = 20        # Number of particles (trajectories)\n",
    "L = 1.5 * 128 # Length of the box (pixels) -> extending fov by 1.5 times\n",
    "D = 0.1       # Diffusion coefficient (pixels^2/frame)\n",
    "model = 1     # ID of the model in the below list\n",
    "\n",
    "models_dict = {'single_state':0, 'multi_state':1, 'dimerization':2, 'confinement':3, 'immobile_traps':4}\n",
    "\n",
    "if model == models_dict['single_state']:\n",
    "    trajs, labels = models_phenom().single_state(N=N, L=L, T=T, alphas=1, Ds=1)\n",
    "    \n",
    "elif model == models_dict['multi_state']:\n",
    "    trajs, labels = models_phenom().multi_state(N=N, L=L, T=T, alphas=[[1, 0], [1, 0]], Ds=[[1, 0], [0.1, 0]],  \n",
    "                    M=[[0.9 , 0.1],[0.1 ,0.9]]) # Transition matrix between diffusive states\n",
    "\n",
    "elif model == models_dict['dimerization']:\n",
    "    trajs, labels = models_phenom().dimerization(N=N, L=L, T=T, alphas=[0.7, 0.1], Ds=[10 * D, 0],\n",
    "                    Pb=1, Pu=0) # Binding and unbinding probability\n",
    "    \n",
    "elif model == models_dict['confinement']:\n",
    "    trajs, labels = models_phenom().confinement(N=N, L=L, T=T, alphas=[[1, 0], [1, 0]], Ds=[[1, 0], [0.1, 0]], \n",
    "                    Nc = 10) # Number of compartments\n",
    "\n",
    "elif model == models_dict['immobile_traps']:\n",
    "    trajs, labels = models_phenom().immobile_traps(N=N, L=L, T=T, alphas=[1, 0], Ds=[1, 0],\n",
    "                    Pu = 0.1, Pb = 0.01, Nt = 10) # Number of traps\n",
    "\n",
    "# trajs dimension to T,N,2\n",
    "\n",
    "plt.figure(figsize=(5, 5))\n",
    "for i in range(N):\n",
    "    plt.plot(trajs[:,i,1], trajs[:,i,0])\n",
    "plt.xlim(0, 256)\n",
    "plt.ylim(0, 256)\n",
    "plt.axis(\"square\")\n",
    "ticks = np.arange(0, 257, 64)\n",
    "plt.xticks(ticks)\n",
    "plt.yticks(ticks)\n",
    "plt.gca().invert_yaxis()\n",
    "plt.show()"
   ]
  },
  {
   "cell_type": "markdown",
   "id": "bb48bba3-c50d-4c4e-8814-b2b29f06856e",
   "metadata": {},
   "source": [
    "### Generating frames"
   ]
  },
  {
   "cell_type": "code",
   "execution_count": null,
   "id": "d2baad95-d438-45ed-ba85-0fa676ea5d70",
   "metadata": {},
   "outputs": [],
   "source": [
    "video = transform_to_video(\n",
    "    np.moveaxis(trajs, 0, 1), \n",
    "    particle_props={\"particle_intensity\": [1000, 0]},\n",
    "    background_props={\"background_mean\": 100},\n",
    "    optics_props={\"output_region\" : [0, 0, 256, 256]   } # [x, y, x + width, y + height]\n",
    ")\n",
    "play_video(video)"
   ]
  },
  {
   "cell_type": "code",
   "execution_count": null,
   "id": "c11c90cd-a5f2-40a5-8767-9cbcd918bf79",
   "metadata": {},
   "outputs": [],
   "source": []
  }
 ],
 "metadata": {
  "kernelspec": {
   "display_name": "Python 3 (ipykernel)",
   "language": "python",
   "name": "python3"
  },
  "language_info": {
   "codemirror_mode": {
    "name": "ipython",
    "version": 3
   },
   "file_extension": ".py",
   "mimetype": "text/x-python",
   "name": "python",
   "nbconvert_exporter": "python",
   "pygments_lexer": "ipython3",
   "version": "3.10.12"
  }
 },
 "nbformat": 4,
 "nbformat_minor": 5
}
